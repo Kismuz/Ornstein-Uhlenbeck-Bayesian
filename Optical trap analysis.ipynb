{
 "cells": [
  {
   "cell_type": "code",
   "execution_count": 18,
   "metadata": {
    "collapsed": true
   },
   "outputs": [],
   "source": [
    "%matplotlib inline\n",
    "import numpy as np\n",
    "import matplotlib.pyplot as plt\n",
    "import pandas as pd\n",
    "import langevin\n",
    "import lmfit as lm\n",
    "from lmfit.models import ExponentialModel\n",
    "\n",
    "SEED = 350107321 # from random.org\n",
    "np.random.seed(SEED)"
   ]
  },
  {
   "cell_type": "code",
   "execution_count": 19,
   "metadata": {
    "collapsed": true
   },
   "outputs": [],
   "source": [
    "#Please find attached the time series data sets for optical trap calibration.\n",
    "#'data_free.zip' contains both the passive and the driven data for a free bead in water.\n",
    "#'data_PEO10.zip' contains both the passive and the driven data for a bead in concentrated PEO solution.\n",
    "#The unit in the data sets is Volt. The conversion factor is about 1.11 micron/V.\n",
    "#The sampling rate is 20 kHz.\n",
    "#The driving frequency of the trap is about 41.6 Hz. "
   ]
  },
  {
   "cell_type": "code",
   "execution_count": 20,
   "metadata": {},
   "outputs": [
    {
     "data": {
      "text/plain": [
       "[<matplotlib.lines.Line2D at 0x111590dd8>]"
      ]
     },
     "execution_count": 20,
     "metadata": {},
     "output_type": "execute_result"
    },
    {
     "data": {
      "image/png": "[encoded data removed]",
      "text/plain": [
       "<matplotlib.figure.Figure at 0x1172fc1d0>"
      ]
     },
     "metadata": {},
     "output_type": "display_data"
    }
   ],
   "source": [
    "# load the data and subtract the mean\n",
    "data = np.loadtxt(\"data_free/data_Free_passive_1.txt\")*1.11\n",
    "N = data.size\n",
    "datan = data-data.mean()\n",
    "delta_t = 1/20000\n",
    "t = np.arange(N)*delta_t\n",
    "plt.plot(t,datan)"
   ]
  },
  {
   "cell_type": "code",
   "execution_count": 21,
   "metadata": {},
   "outputs": [
    {
     "name": "stdout",
     "output_type": "stream",
     "text": [
      "0.02\n"
     ]
    },
    {
     "data": {
      "image/png": "[encoded data removed]",
      "text/plain": [
       "<matplotlib.figure.Figure at 0x106d89908>"
      ]
     },
     "metadata": {},
     "output_type": "display_data"
    }
   ],
   "source": [
    "plt.hist(datan,bins=30,normed=True)\n",
    "print(1/np.sqrt(N/40))"
   ]
  },
  {
   "cell_type": "code",
   "execution_count": 22,
   "metadata": {
    "collapsed": true
   },
   "outputs": [],
   "source": [
    "# function to calculate A and B from the dataset\n",
    "def OUanalytic(data):\n",
    "    N = data.size\n",
    "    data1sq = data[0]**2\n",
    "    dataNsq = data[-1]**2\n",
    "    datasq = np.sum(data[1:-1]**2)\n",
    "    datacorr = np.sum(data[0:-1]*data[1:])\n",
    "    coef = [(N-1)*datasq,\n",
    "       (2.0-N)*datacorr,\n",
    "       -data1sq-(N+1)*datasq-dataNsq,\n",
    "       N*datacorr]\n",
    "    B=np.roots(coef)[-1]\n",
    "    Q=(data1sq+dataNsq)/(1-B**2)\n",
    "    Q=Q+datasq*(1+B**2)/(1-B**2)\n",
    "    Q=Q-datacorr*2*B/(1-B**2)\n",
    "    s2 = Q/N\n",
    "    vs2 = s2**2/N\n",
    "    Btmp = B**2*(1+2*N)\n",
    "    tmp = (1+Btmp)*(data1sq+dataNsq) + (2*Btmp + N + 1 -B**4*(N-1))*datasq - 2*B*(1+B**2+2*N)*datacorr\n",
    "    vB = (1-B**2)**2*(data1sq+dataNsq + (1+B**2)*datasq - 2*B*datacorr)/tmp\n",
    "    return s2,vs2,B,vB\n",
    "\n",
    "def OUresult(data,deltat):\n",
    "    s2, vs2, B ,vB = OUanalytic(data)\n",
    "    tau = -deltat/np.log(B)\n",
    "    dtau = deltat*np.sqrt(vB)/B/np.log(B)**2\n",
    "    return s2,np.sqrt(vs2),tau,dtau"
   ]
  },
  {
   "cell_type": "code",
   "execution_count": 23,
   "metadata": {},
   "outputs": [
    {
     "data": {
      "text/plain": [
       "[<matplotlib.lines.Line2D at 0x117543358>]"
      ]
     },
     "execution_count": 23,
     "metadata": {},
     "output_type": "execute_result"
    },
    {
     "data": {
      "image/png": "[encoded data removed]",
      "text/plain": [
       "<matplotlib.figure.Figure at 0x117438c18>"
      ]
     },
     "metadata": {},
     "output_type": "display_data"
    }
   ],
   "source": [
    "# calculate autocorrelation function\n",
    "P = 25\n",
    "f = np.fft.rfft(datan)\n",
    "acf = np.fft.irfft(f * np.conjugate(f))\n",
    "acf = np.fft.fftshift(acf) / N\n",
    "autocorr = acf[int(N / 2):]\n",
    "\n",
    "y = autocorr[:min(int(N / 2), P)]\n",
    "t_acf = np.arange(min(int(N / 2), P))*delta_t\n",
    "plt.plot(t_acf,y,\"o\")\n"
   ]
  },
  {
   "cell_type": "code",
   "execution_count": 24,
   "metadata": {},
   "outputs": [
    {
     "name": "stdout",
     "output_type": "stream",
     "text": [
      "[[Model]]\n",
      "    Model(exponential)\n",
      "[[Fit Statistics]]\n",
      "    # function evals   = 25\n",
      "    # data points      = 25\n",
      "    # variables        = 2\n",
      "    chi-square         = 0.000\n",
      "    reduced chi-square = 0.000\n",
      "    Akaike info crit   = -620.864\n",
      "    Bayesian info crit = -618.426\n",
      "[[Variables]]\n",
      "    decay:       0.00013097 +/- 3.27e-06 (2.50%) (init= 0.0002882744)\n",
      "    amplitude:   0.00022392 +/- 3.31e-06 (1.48%) (init= 7.265482e-05)\n",
      "[[Correlations]] (unreported correlations are <  0.250)\n",
      "    C(decay, amplitude)          = -0.564 \n",
      "\n"
     ]
    }
   ],
   "source": [
    "mod = ExponentialModel()\n",
    "pars = mod.guess(y, x=t_acf)\n",
    "try:\n",
    "    out = mod.fit(y, pars, x=t_acf)\n",
    "except:\n",
    "    fit_results = np.zeros(4)\n",
    "    print('fit did not work')\n",
    "else:\n",
    "    print(out.fit_report(min_correl=0.25))\n"
   ]
  },
  {
   "cell_type": "code",
   "execution_count": 25,
   "metadata": {},
   "outputs": [
    {
     "name": "stdout",
     "output_type": "stream",
     "text": [
      "Amplitude =  0.000217795423001 +/- 6.88729600645e-07 ( 0.316227766017 %)\n",
      "decay =  0.00017671853993 +/- 9.04557710256e-07 ( 0.511863503748 %)\n"
     ]
    }
   ],
   "source": [
    "MLresults=OUresult(datan,delta_t)\n",
    "print(\"Amplitude = \",MLresults[0],\"+/-\",MLresults[1],\"(\",MLresults[1]/MLresults[0]*100,\"%)\")\n",
    "print(\"decay = \",MLresults[2],\"+/-\",MLresults[3],\"(\",MLresults[3]/MLresults[2]*100,\"%)\")"
   ]
  },
  {
   "cell_type": "code",
   "execution_count": null,
   "metadata": {
    "collapsed": true
   },
   "outputs": [],
   "source": []
  }
 ],
 "metadata": {
  "anaconda-cloud": {},
  "kernelspec": {
   "display_name": "Python [conda env:python3]",
   "language": "python",
   "name": "conda-env-python3-py"
  },
  "language_info": {
   "codemirror_mode": {
    "name": "ipython",
    "version": 3
   },
   "file_extension": ".py",
   "mimetype": "text/x-python",
   "name": "python",
   "nbconvert_exporter": "python",
   "pygments_lexer": "ipython3",
   "version": "3.5.3"
  }
 },
 "nbformat": 4,
 "nbformat_minor": 1
}
